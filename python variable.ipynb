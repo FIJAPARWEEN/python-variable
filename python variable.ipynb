{
 "cells": [
  {
   "cell_type": "code",
   "execution_count": 5,
   "id": "16effadb-5999-4abd-9578-d9caac9d1fa3",
   "metadata": {},
   "outputs": [],
   "source": [
    "a = 1"
   ]
  },
  {
   "cell_type": "code",
   "execution_count": 9,
   "id": "e05b9502-2ba8-4668-b57f-61d9826ea643",
   "metadata": {},
   "outputs": [
    {
     "data": {
      "text/plain": [
       "1"
      ]
     },
     "execution_count": 9,
     "metadata": {},
     "output_type": "execute_result"
    }
   ],
   "source": [
    "a "
   ]
  },
  {
   "cell_type": "code",
   "execution_count": 11,
   "id": "252e53d8-39f0-458a-8680-309dc5b92822",
   "metadata": {},
   "outputs": [
    {
     "data": {
      "text/plain": [
       "int"
      ]
     },
     "execution_count": 11,
     "metadata": {},
     "output_type": "execute_result"
    }
   ],
   "source": [
    "type(a)"
   ]
  },
  {
   "cell_type": "code",
   "execution_count": 13,
   "id": "60c9cf8c-cb1d-4068-9983-09a8d55edbbb",
   "metadata": {},
   "outputs": [],
   "source": [
    "b = \"fiza\""
   ]
  },
  {
   "cell_type": "code",
   "execution_count": 15,
   "id": "a932c284-409b-4ebf-b2a8-095172f492c7",
   "metadata": {},
   "outputs": [
    {
     "data": {
      "text/plain": [
       "'fiza'"
      ]
     },
     "execution_count": 15,
     "metadata": {},
     "output_type": "execute_result"
    }
   ],
   "source": [
    "b"
   ]
  },
  {
   "cell_type": "code",
   "execution_count": 17,
   "id": "925c3438-24fa-4be1-947d-436af35ac3ee",
   "metadata": {},
   "outputs": [
    {
     "data": {
      "text/plain": [
       "str"
      ]
     },
     "execution_count": 17,
     "metadata": {},
     "output_type": "execute_result"
    }
   ],
   "source": [
    "type(b)"
   ]
  },
  {
   "cell_type": "code",
   "execution_count": 18,
   "id": "702f71eb-4ff4-461a-8b2e-ec376e308fe2",
   "metadata": {},
   "outputs": [],
   "source": [
    "c = 45.152"
   ]
  },
  {
   "cell_type": "code",
   "execution_count": 20,
   "id": "574e609d-2273-4f5e-9bb8-04983f6b9823",
   "metadata": {},
   "outputs": [
    {
     "data": {
      "text/plain": [
       "float"
      ]
     },
     "execution_count": 20,
     "metadata": {},
     "output_type": "execute_result"
    }
   ],
   "source": [
    "type(c)"
   ]
  },
  {
   "cell_type": "code",
   "execution_count": 21,
   "id": "b061a7ca-8e42-4324-a497-d47906c8db7f",
   "metadata": {},
   "outputs": [],
   "source": [
    "fiza = 9905"
   ]
  },
  {
   "cell_type": "code",
   "execution_count": 23,
   "id": "7ecea7ff-3649-4719-9d08-5094f2601b9c",
   "metadata": {},
   "outputs": [
    {
     "data": {
      "text/plain": [
       "9905"
      ]
     },
     "execution_count": 23,
     "metadata": {},
     "output_type": "execute_result"
    }
   ],
   "source": [
    "fiza"
   ]
  },
  {
   "cell_type": "code",
   "execution_count": 25,
   "id": "e69a5ef4-0a5f-4328-b2f7-eca7a914e00b",
   "metadata": {},
   "outputs": [
    {
     "data": {
      "text/plain": [
       "int"
      ]
     },
     "execution_count": 25,
     "metadata": {},
     "output_type": "execute_result"
    }
   ],
   "source": [
    "type(fiza)"
   ]
  },
  {
   "cell_type": "code",
   "execution_count": 27,
   "id": "907f9ac9-8788-46cf-bcdf-ddeec73a4894",
   "metadata": {},
   "outputs": [],
   "source": [
    "d = True"
   ]
  },
  {
   "cell_type": "code",
   "execution_count": 29,
   "id": "34191f84-ca50-4667-bb4d-be46bc4bd1b2",
   "metadata": {},
   "outputs": [
    {
     "data": {
      "text/plain": [
       "bool"
      ]
     },
     "execution_count": 29,
     "metadata": {},
     "output_type": "execute_result"
    }
   ],
   "source": [
    "type(d)"
   ]
  },
  {
   "cell_type": "code",
   "execution_count": 30,
   "id": "ad2dda02-baf7-4906-9cc0-50bcfe6fe629",
   "metadata": {},
   "outputs": [],
   "source": [
    "e = False"
   ]
  },
  {
   "cell_type": "code",
   "execution_count": 32,
   "id": "8d1f8d4f-14b3-4b91-855c-fad9b2514c5e",
   "metadata": {},
   "outputs": [
    {
     "data": {
      "text/plain": [
       "bool"
      ]
     },
     "execution_count": 32,
     "metadata": {},
     "output_type": "execute_result"
    }
   ],
   "source": [
    "type(e)"
   ]
  },
  {
   "cell_type": "code",
   "execution_count": 34,
   "id": "97b5fa72-19ca-4083-a028-5e419f42e765",
   "metadata": {},
   "outputs": [
    {
     "data": {
      "text/plain": [
       "1"
      ]
     },
     "execution_count": 34,
     "metadata": {},
     "output_type": "execute_result"
    }
   ],
   "source": [
    "True - False"
   ]
  },
  {
   "cell_type": "code",
   "execution_count": 37,
   "id": "ed3aee6c-0661-4309-9121-35a2b58a287d",
   "metadata": {},
   "outputs": [
    {
     "data": {
      "text/plain": [
       "0"
      ]
     },
     "execution_count": 37,
     "metadata": {},
     "output_type": "execute_result"
    }
   ],
   "source": [
    "True * False"
   ]
  },
  {
   "cell_type": "code",
   "execution_count": 39,
   "id": "90603649-7f5d-4b40-8f7b-7bd612fc7a68",
   "metadata": {},
   "outputs": [
    {
     "ename": "ZeroDivisionError",
     "evalue": "division by zero",
     "output_type": "error",
     "traceback": [
      "\u001b[0;31m---------------------------------------------------------------------------\u001b[0m",
      "\u001b[0;31mZeroDivisionError\u001b[0m                         Traceback (most recent call last)",
      "Cell \u001b[0;32mIn[39], line 1\u001b[0m\n\u001b[0;32m----> 1\u001b[0m \u001b[38;5;28;43;01mTrue\u001b[39;49;00m\u001b[43m \u001b[49m\u001b[38;5;241;43m/\u001b[39;49m\u001b[43m \u001b[49m\u001b[38;5;28;43;01mFalse\u001b[39;49;00m\n",
      "\u001b[0;31mZeroDivisionError\u001b[0m: division by zero"
     ]
    }
   ],
   "source": [
    "True / False"
   ]
  },
  {
   "cell_type": "code",
   "execution_count": 41,
   "id": "82602881-90b5-4482-8aa4-d600de5afccc",
   "metadata": {},
   "outputs": [],
   "source": [
    "f = 5+4j"
   ]
  },
  {
   "cell_type": "code",
   "execution_count": 43,
   "id": "df2060f8-6241-4f5c-b5dc-a803154434b5",
   "metadata": {},
   "outputs": [
    {
     "data": {
      "text/plain": [
       "complex"
      ]
     },
     "execution_count": 43,
     "metadata": {},
     "output_type": "execute_result"
    }
   ],
   "source": [
    "type(f)"
   ]
  },
  {
   "cell_type": "code",
   "execution_count": 45,
   "id": "7a07ad40-ab65-4f4c-9632-5cf4e7083ce6",
   "metadata": {},
   "outputs": [],
   "source": [
    "g = 6j"
   ]
  },
  {
   "cell_type": "code",
   "execution_count": 50,
   "id": "3437317d-cfa2-42ef-83de-dbd9164ab84d",
   "metadata": {},
   "outputs": [
    {
     "data": {
      "text/plain": [
       "complex"
      ]
     },
     "execution_count": 50,
     "metadata": {},
     "output_type": "execute_result"
    }
   ],
   "source": [
    "type(g)"
   ]
  },
  {
   "cell_type": "code",
   "execution_count": 52,
   "id": "e16bb202-2309-4421-a489-64711e043447",
   "metadata": {},
   "outputs": [],
   "source": [
    "_a =45"
   ]
  },
  {
   "cell_type": "code",
   "execution_count": 56,
   "id": "f85bc380-c466-48e9-8382-6e846e9d391d",
   "metadata": {},
   "outputs": [
    {
     "data": {
      "text/plain": [
       "(5+4j)"
      ]
     },
     "execution_count": 56,
     "metadata": {},
     "output_type": "execute_result"
    }
   ],
   "source": [
    "f"
   ]
  },
  {
   "cell_type": "code",
   "execution_count": null,
   "id": "0c0a853e-e213-45c7-bef0-ce3e42e1ebdb",
   "metadata": {},
   "outputs": [],
   "source": [
    "e."
   ]
  }
 ],
 "metadata": {
  "kernelspec": {
   "display_name": "Python 3 (ipykernel)",
   "language": "python",
   "name": "python3"
  },
  "language_info": {
   "codemirror_mode": {
    "name": "ipython",
    "version": 3
   },
   "file_extension": ".py",
   "mimetype": "text/x-python",
   "name": "python",
   "nbconvert_exporter": "python",
   "pygments_lexer": "ipython3",
   "version": "3.10.8"
  }
 },
 "nbformat": 4,
 "nbformat_minor": 5
}
